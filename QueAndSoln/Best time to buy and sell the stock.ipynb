{
 "cells": [
  {
   "cell_type": "markdown",
   "id": "ec2f8126-a69f-4d17-aa74-0f2e5c8d800f",
   "metadata": {},
   "source": [
    "##   Asked in Amazon for 55 times and Microsoft for 17 times"
   ]
  },
  {
   "cell_type": "code",
   "execution_count": 2,
   "id": "adcb254c-61e0-4e41-ad4d-6b52857841f7",
   "metadata": {},
   "outputs": [
    {
     "data": {
      "text/plain": [
       "5"
      ]
     },
     "execution_count": 2,
     "metadata": {},
     "output_type": "execute_result"
    }
   ],
   "source": [
    "## function definition\n",
    "def findMaxProfit(price):\n",
    "    minPrice = float('inf')\n",
    "    maxProfit = 0\n",
    "    for i in range(len(price)):\n",
    "        if price[i] < minPrice:\n",
    "            minPrice = price[i]\n",
    "        elif price[i] - minPrice > maxProfit:\n",
    "            maxProfit = price[i] - minPrice\n",
    "    return maxProfit\n",
    "\n",
    "\n",
    "## Driver code\n",
    "price=[7,1,5,3,6,4]\n",
    "findMaxProfit(price)"
   ]
  }
 ],
 "metadata": {
  "kernelspec": {
   "display_name": "Python 3 (ipykernel)",
   "language": "python",
   "name": "python3"
  },
  "language_info": {
   "codemirror_mode": {
    "name": "ipython",
    "version": 3
   },
   "file_extension": ".py",
   "mimetype": "text/x-python",
   "name": "python",
   "nbconvert_exporter": "python",
   "pygments_lexer": "ipython3",
   "version": "3.11.4"
  }
 },
 "nbformat": 4,
 "nbformat_minor": 5
}
