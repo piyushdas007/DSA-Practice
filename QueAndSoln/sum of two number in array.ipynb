{
 "cells": [
  {
   "cell_type": "markdown",
   "id": "2018199b-6e44-4aa6-a539-8ce555abe2f1",
   "metadata": {},
   "source": [
    "Given an array of integers nums and an integer target, return indices of the two numbers such that they add up to target.\n",
    "You may assume that each input would have exactly one solution, and you may not use the same element twice.\n",
    "You can return the answer in any order.\n",
    "\n",
    "Example 1:\n",
    "\n",
    "Input: nums = [2,7,11,15], target = 9\n",
    "Output: [0,1]\n",
    "Explanation: Because nums[0] + nums[1] == 9, we return [0, 1].\n",
    "\n",
    "Example 2:\n",
    "\n",
    "Input: nums = [3,2,4], target = 6\n",
    "Output: [1,2]\n",
    "\n",
    "Example 3:\n",
    "\n",
    "Input: nums = [3,3], target = 6\n",
    "Output: [0,1]"
   ]
  },
  {
   "cell_type": "code",
   "execution_count": 3,
   "id": "7905b2d0-b843-4efb-8185-5b19dbbbface",
   "metadata": {},
   "outputs": [
    {
     "data": {
      "text/plain": [
       "(5, 6)"
      ]
     },
     "execution_count": 3,
     "metadata": {},
     "output_type": "execute_result"
    }
   ],
   "source": [
    "### My Solution\n",
    "\n",
    "## Linear Approach\n",
    "\n",
    "## Function defination\n",
    "def twoSum(arr,target):\n",
    "  for i in range(len(arr)):\n",
    "    for j in range(1,len(arr)):\n",
    "      if arr[i] + arr[j] == target:\n",
    "        return i, j\n",
    "  return -1\n",
    "\n",
    "## Drivers code:\n",
    "arr = [20,40,60,80,90,120,240]\n",
    "target = 360\n",
    "twoSum(arr,target)"
   ]
  },
  {
   "cell_type": "code",
   "execution_count": 14,
   "id": "c3f5a2a2-9ef5-4a57-913e-f152b5ff8773",
   "metadata": {},
   "outputs": [
    {
     "ename": "SyntaxError",
     "evalue": "invalid syntax (4231230101.py, line 10)",
     "output_type": "error",
     "traceback": [
      "\u001b[1;36m  Cell \u001b[1;32mIn[14], line 10\u001b[1;36m\u001b[0m\n\u001b[1;33m    return mid = mid + 1\u001b[0m\n\u001b[1;37m               ^\u001b[0m\n\u001b[1;31mSyntaxError\u001b[0m\u001b[1;31m:\u001b[0m invalid syntax\n"
     ]
    }
   ],
   "source": [
    "### My Solution\n",
    "\n",
    "## Binary Approach\n",
    "def twoSum(arr,l,r,target):\n",
    "    mid = l +(r-l)//2\n",
    "    while l<r:\n",
    "        if arr[i] + arr[mid] == target:\n",
    "            return (i,mid)\n",
    "        elif arr[i] + arr[mid] < target:\n",
    "            return mid = mid + 1\n",
    "        else:\n",
    "            return mid = mid - 1\n",
    "\n",
    "## Drivers code:\n",
    "arr = [20,40,60,80,90,120,240]\n",
    "target = 360\n",
    "l=0\n",
    "r = len(arr)\n",
    "twoSum(arr,l,r,target)"
   ]
  },
  {
   "cell_type": "code",
   "execution_count": 20,
   "id": "b8150e25-7527-47fb-8000-26ef61cd921c",
   "metadata": {},
   "outputs": [
    {
     "name": "stdout",
     "output_type": "stream",
     "text": [
      "None\n"
     ]
    }
   ],
   "source": [
    "def twoSum(arr,l,r,target):\n",
    "    \n",
    "    while l<r:\n",
    "        if arr[l] + arr[r] == target:\n",
    "            return (l,r)\n",
    "        elif arr[l] + arr[r] < target:\n",
    "            l += 1\n",
    "        else:\n",
    "            r -= 1\n",
    "\n",
    "## Drivers code:\n",
    "arr = [3,2,4]\n",
    "target = 6\n",
    "l = 0\n",
    "r = len(arr)-1\n",
    "print(twoSum(arr,l,r,target))"
   ]
  }
 ],
 "metadata": {
  "kernelspec": {
   "display_name": "Python 3 (ipykernel)",
   "language": "python",
   "name": "python3"
  },
  "language_info": {
   "codemirror_mode": {
    "name": "ipython",
    "version": 3
   },
   "file_extension": ".py",
   "mimetype": "text/x-python",
   "name": "python",
   "nbconvert_exporter": "python",
   "pygments_lexer": "ipython3",
   "version": "3.11.4"
  }
 },
 "nbformat": 4,
 "nbformat_minor": 5
}
