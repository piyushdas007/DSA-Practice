{
 "cells": [
  {
   "cell_type": "markdown",
   "id": "7a4d09a5-48b9-486a-9c22-70134744b3e9",
   "metadata": {},
   "source": [
    "# Ternary Search"
   ]
  },
  {
   "cell_type": "code",
   "execution_count": 7,
   "id": "46a06fdf-c51f-4eb0-b67f-9a8022ac3f99",
   "metadata": {},
   "outputs": [
    {
     "data": {
      "text/plain": [
       "7"
      ]
     },
     "execution_count": 7,
     "metadata": {},
     "output_type": "execute_result"
    }
   ],
   "source": [
    "## function defination\n",
    "def ternarySearch(arr,i,j,key):\n",
    "\n",
    "    # compute the value of mid1 and mid2\n",
    "    mid1 = i +(j-i)//3\n",
    "    mid2 = j -(j-1)//3\n",
    "    \n",
    "    while i <= j:\n",
    "        if arr[mid1] == key:\n",
    "            return mid1\n",
    "        elif arr[mid2] == key:\n",
    "            return mid2\n",
    "        # first part of the ternary search\n",
    "        elif key < arr[mid1]:\n",
    "            # recursive call\n",
    "            return ternarySearch(arr,i,mid1-1,key)\n",
    "        # third part of the ternary search\n",
    "        elif key > arr[mid2]:\n",
    "            # recursive call\n",
    "            return ternarySearch(arr,mid2+1,j,key)\n",
    "        # second part of the ternary search\n",
    "        else:\n",
    "            # recursive call\n",
    "            return ternarySearch(arr,mid1+1,mid2-1,key)\n",
    "\n",
    "    return -1\n",
    "\n",
    "## Driver code\n",
    "arr = [20,25,47,56,59,63,65,79,82]\n",
    "i = 0\n",
    "j = len(arr)-1\n",
    "key = 79\n",
    "## function calling\n",
    "ternarySearch(arr,i,j,key)"
   ]
  },
  {
   "cell_type": "code",
   "execution_count": null,
   "id": "7ff8fa58-639b-4b65-8e3d-ef945cacbfbc",
   "metadata": {},
   "outputs": [],
   "source": []
  }
 ],
 "metadata": {
  "kernelspec": {
   "display_name": "Python 3 (ipykernel)",
   "language": "python",
   "name": "python3"
  },
  "language_info": {
   "codemirror_mode": {
    "name": "ipython",
    "version": 3
   },
   "file_extension": ".py",
   "mimetype": "text/x-python",
   "name": "python",
   "nbconvert_exporter": "python",
   "pygments_lexer": "ipython3",
   "version": "3.11.4"
  }
 },
 "nbformat": 4,
 "nbformat_minor": 5
}
