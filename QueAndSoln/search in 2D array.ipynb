{
 "cells": [
  {
   "cell_type": "markdown",
   "id": "44bb0368-552e-46cd-97a1-b418082908d7",
   "metadata": {},
   "source": [
    "## Asked to priya mam in amazon interview"
   ]
  },
  {
   "cell_type": "code",
   "execution_count": 19,
   "id": "6a73c435-375e-43f2-b3d1-34cf1f80f8d0",
   "metadata": {},
   "outputs": [
    {
     "data": {
      "text/plain": [
       "True"
      ]
     },
     "execution_count": 19,
     "metadata": {},
     "output_type": "execute_result"
    }
   ],
   "source": [
    "## my solution \n",
    "## Linear search\n",
    "## Time comlixity : O(n^2)\n",
    "\n",
    "def searchTarget(arr,target):\n",
    "    for i in range(len(arr)):\n",
    "        for j in range(len(arr[0])):\n",
    "            if arr[i][j] == target:\n",
    "                return True\n",
    "    return False\n",
    "\n",
    "arr = [[1,3,5,7],[10,11,16,20],[23,30,34,60]]\n",
    "target = 30\n",
    "searchTarget(arr,target)"
   ]
  },
  {
   "cell_type": "code",
   "execution_count": 25,
   "id": "748e90c1-fd48-4d8c-85bd-14d6e514c2f8",
   "metadata": {},
   "outputs": [
    {
     "data": {
      "text/plain": [
       "True"
      ]
     },
     "execution_count": 25,
     "metadata": {},
     "output_type": "execute_result"
    }
   ],
   "source": [
    "## function definition\n",
    "## binary Search\n",
    "## Time complixity : O(log(m*n))\n",
    "\n",
    "def searchTarget(arr,target):\n",
    "    ## number of rows\n",
    "    m = len(arr)\n",
    "    if m == 0:\n",
    "        return False\n",
    "        \n",
    "    ## number of column\n",
    "    n = len(arr[0])\n",
    "    left,right = 0,m*n-1\n",
    "    \n",
    "    ## binary search implementation\n",
    "    while left <= right:\n",
    "        mid = left + (right - left)//2\n",
    "        ## row_number --> mid//2\n",
    "        ## col_number --> mid%2\n",
    "        mid_element = arr[mid//n][mid%n]\n",
    "        \n",
    "        if target == mid_element:\n",
    "            return True\n",
    "        elif target < mid_element:\n",
    "            right = mid -1\n",
    "        else:\n",
    "            left = mid + 1\n",
    "    return False            \n",
    "\n",
    "\n",
    "## Drivers code\n",
    "arr = [[1,3,5,7],[10,11,16,20],[23,30,34,60]]\n",
    "target = 16\n",
    "searchTarget(arr,target)"
   ]
  }
 ],
 "metadata": {
  "kernelspec": {
   "display_name": "Python 3 (ipykernel)",
   "language": "python",
   "name": "python3"
  },
  "language_info": {
   "codemirror_mode": {
    "name": "ipython",
    "version": 3
   },
   "file_extension": ".py",
   "mimetype": "text/x-python",
   "name": "python",
   "nbconvert_exporter": "python",
   "pygments_lexer": "ipython3",
   "version": "3.11.4"
  }
 },
 "nbformat": 4,
 "nbformat_minor": 5
}
