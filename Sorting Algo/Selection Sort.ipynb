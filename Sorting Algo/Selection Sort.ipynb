{
 "cells": [
  {
   "cell_type": "markdown",
   "id": "45dac6b0-9e74-40c2-a823-26e44369bbee",
   "metadata": {},
   "source": [
    "## Selection Sort"
   ]
  },
  {
   "cell_type": "code",
   "execution_count": 2,
   "id": "1f1384a6-c95e-4002-9a57-5c3c82778dd2",
   "metadata": {},
   "outputs": [
    {
     "name": "stdout",
     "output_type": "stream",
     "text": [
      "[2, 3, 4, 5, 6, 7]\n"
     ]
    }
   ],
   "source": [
    "## Selection Sort\n",
    "## Time complixity : O(n^2)\n",
    "## Method Defination \n",
    "def selectionSort(arr):\n",
    "    n = len(arr)\n",
    "    for i in range(n):\n",
    "        min_idx = i\n",
    "        for j in range(i+1,n):\n",
    "            if arr[j] < arr[min_idx]:\n",
    "                min_idx = j\n",
    "        arr[i],arr[min_idx] = arr[min_idx],arr[i]\n",
    "    \n",
    "    return arr\n",
    "\n",
    "\n",
    "## Driver Code\n",
    "arr = [5,4,7,6,2,3]\n",
    "result = selectionSort(arr)\n",
    "print(result)"
   ]
  }
 ],
 "metadata": {
  "kernelspec": {
   "display_name": "Python 3 (ipykernel)",
   "language": "python",
   "name": "python3"
  },
  "language_info": {
   "codemirror_mode": {
    "name": "ipython",
    "version": 3
   },
   "file_extension": ".py",
   "mimetype": "text/x-python",
   "name": "python",
   "nbconvert_exporter": "python",
   "pygments_lexer": "ipython3",
   "version": "3.11.4"
  }
 },
 "nbformat": 4,
 "nbformat_minor": 5
}
