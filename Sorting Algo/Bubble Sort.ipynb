{
 "cells": [
  {
   "cell_type": "markdown",
   "id": "d9e67593-2061-45ab-a10e-52468efc1e7f",
   "metadata": {},
   "source": [
    "## Bubble Sort"
   ]
  },
  {
   "cell_type": "code",
   "execution_count": 5,
   "id": "8935f1df-37ff-4126-9651-cb25afc7a8c6",
   "metadata": {},
   "outputs": [
    {
     "name": "stdout",
     "output_type": "stream",
     "text": [
      "[2, 3, 4, 5, 6, 7]\n"
     ]
    }
   ],
   "source": [
    "## Method implementaion\n",
    "def bubbleSort(arr):\n",
    "    for j in range(len(arr)):     \n",
    "        for i in range(0,len(arr)-1):\n",
    "            if arr[i] > arr[i+1]:\n",
    "                arr[i],arr[i+1] = arr[i+1],arr[i]\n",
    "\n",
    "    return arr\n",
    "## Driver Code\n",
    "arr = [5,4,7,6,2,3]\n",
    "result = bubbleSort(arr)\n",
    "print(result)"
   ]
  },
  {
   "cell_type": "raw",
   "id": "6afefd06-a101-415e-a0b4-8ff805e44ce5",
   "metadata": {},
   "source": [
    "Priya mam's code"
   ]
  },
  {
   "cell_type": "code",
   "execution_count": 10,
   "id": "926effd2-22e3-4c12-9246-c2bb3cc8fa2b",
   "metadata": {},
   "outputs": [
    {
     "name": "stdout",
     "output_type": "stream",
     "text": [
      "[2, 3, 4, 5, 6, 7]\n"
     ]
    }
   ],
   "source": [
    "## Bubble Sort\n",
    "## Time complixity : O(n^2)\n",
    "## Method implementation\n",
    "def bubbleSort(arr):\n",
    "    n = len(arr)\n",
    "    for i in range(n):\n",
    "        for j in range(0,n-i-1): # here last element is excluded in every pass\n",
    "            if arr[j] > arr[j+1]:\n",
    "                arr[j], arr[j+1] = arr[j+1], arr[j]\n",
    "    return arr\n",
    "\n",
    "## Driver Code\n",
    "arr = [5,4,7,6,2,3]\n",
    "result = bubbleSort(arr)\n",
    "print(result)"
   ]
  },
  {
   "cell_type": "code",
   "execution_count": null,
   "id": "a39cf6ea-5782-4201-adc3-af0a625aab3a",
   "metadata": {},
   "outputs": [],
   "source": []
  },
  {
   "cell_type": "code",
   "execution_count": null,
   "id": "540fb4c9-34e6-4c36-bc39-610221356880",
   "metadata": {},
   "outputs": [],
   "source": []
  }
 ],
 "metadata": {
  "kernelspec": {
   "display_name": "Python 3 (ipykernel)",
   "language": "python",
   "name": "python3"
  },
  "language_info": {
   "codemirror_mode": {
    "name": "ipython",
    "version": 3
   },
   "file_extension": ".py",
   "mimetype": "text/x-python",
   "name": "python",
   "nbconvert_exporter": "python",
   "pygments_lexer": "ipython3",
   "version": "3.11.4"
  }
 },
 "nbformat": 4,
 "nbformat_minor": 5
}
